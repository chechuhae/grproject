{
 "cells": [
  {
   "cell_type": "code",
   "execution_count": 1,
   "id": "577da087",
   "metadata": {
    "ExecuteTime": {
     "end_time": "2022-04-27T11:30:44.577739Z",
     "start_time": "2022-04-27T11:30:44.502741Z"
    }
   },
   "outputs": [],
   "source": [
    "import findspark"
   ]
  },
  {
   "cell_type": "code",
   "execution_count": 2,
   "id": "6690cfb7",
   "metadata": {
    "ExecuteTime": {
     "end_time": "2022-04-27T11:30:45.254816Z",
     "start_time": "2022-04-27T11:30:45.201826Z"
    }
   },
   "outputs": [
    {
     "data": {
      "text/plain": [
       "'C:\\\\Spark\\\\spark-3.2.1-bin-hadoop3.2'"
      ]
     },
     "execution_count": 2,
     "metadata": {},
     "output_type": "execute_result"
    }
   ],
   "source": [
    "findspark.init()\n",
    "findspark.find()"
   ]
  },
  {
   "cell_type": "code",
   "execution_count": 4,
   "id": "fe9e17cc",
   "metadata": {
    "ExecuteTime": {
     "end_time": "2022-04-27T11:30:46.073855Z",
     "start_time": "2022-04-27T11:30:45.920850Z"
    }
   },
   "outputs": [],
   "source": [
    "import psycopg2\n",
    "import pandas as pd\n",
    "from pyspark.sql import SparkSession\n",
    "from sqlalchemy import create_engine\n",
    "from pyspark.sql import functions\n",
    "\n",
    "appName = \"PySpark PostgreSQL Example - via psycopg2\"\n",
    "master = \"local[1]\"\n",
    "\n",
    "spark = SparkSession.builder.master(master).appName(appName).getOrCreate()"
   ]
  },
  {
   "cell_type": "code",
   "execution_count": 5,
   "id": "dfd3262f",
   "metadata": {
    "ExecuteTime": {
     "end_time": "2022-04-27T11:30:47.891017Z",
     "start_time": "2022-04-27T11:30:46.935022Z"
    }
   },
   "outputs": [],
   "source": [
    "url = \"jdbc:postgresql://localhost:5432/pagila\"\n",
    "query=\"'select * from film_list'\"\n",
    "df =  spark.read.format(\"jdbc\")\\\n",
    "    .option(\"url\", url)\\\n",
    "    .option(\"user\", 'postgres')\\\n",
    "    .option(\"password\", '52845466')\\\n",
    "    .option(\"dbtable\", 'information_schema.tables')\\\n",
    "    .option(\"driver\", \"org.postgresql.Driver\") \\\n",
    ".load()\n"
   ]
  },
  {
   "cell_type": "code",
   "execution_count": 6,
   "id": "7e128cdb",
   "metadata": {
    "ExecuteTime": {
     "end_time": "2022-04-27T11:30:50.185016Z",
     "start_time": "2022-04-27T11:30:48.414047Z"
    }
   },
   "outputs": [
    {
     "name": "stdout",
     "output_type": "stream",
     "text": [
      "+-------------+------------+-------------+----------+----------------------------+--------------------+-------------------------+------------------------+----------------------+------------------+--------+-------------+\n",
      "|table_catalog|table_schema|   table_name|table_type|self_referencing_column_name|reference_generation|user_defined_type_catalog|user_defined_type_schema|user_defined_type_name|is_insertable_into|is_typed|commit_action|\n",
      "+-------------+------------+-------------+----------+----------------------------+--------------------+-------------------------+------------------------+----------------------+------------------+--------+-------------+\n",
      "|       pagila|      public|   actor_info|      VIEW|                        null|                null|                     null|                    null|                  null|                NO|      NO|         null|\n",
      "|       pagila|      public|customer_list|      VIEW|                        null|                null|                     null|                    null|                  null|                NO|      NO|         null|\n",
      "|       pagila|  pg_catalog| pg_statistic|BASE TABLE|                        null|                null|                     null|                    null|                  null|               YES|      NO|         null|\n",
      "|       pagila|  pg_catalog|      pg_type|BASE TABLE|                        null|                null|                     null|                    null|                  null|               YES|      NO|         null|\n",
      "|       pagila|      public|    film_list|      VIEW|                        null|                null|                     null|                    null|                  null|                NO|      NO|         null|\n",
      "+-------------+------------+-------------+----------+----------------------------+--------------------+-------------------------+------------------------+----------------------+------------------+--------+-------------+\n",
      "only showing top 5 rows\n",
      "\n"
     ]
    }
   ],
   "source": [
    "df.show(5)"
   ]
  },
  {
   "cell_type": "code",
   "execution_count": 8,
   "id": "6e8c0594",
   "metadata": {
    "ExecuteTime": {
     "end_time": "2022-04-27T11:31:06.390491Z",
     "start_time": "2022-04-27T11:31:02.273680Z"
    }
   },
   "outputs": [
    {
     "name": "stdout",
     "output_type": "stream",
     "text": [
      "['actor_info', 'customer_list', 'pg_statistic', 'pg_type', 'film_list', 'nicer_but_slower_film_list', 'payment', 'pg_foreign_table', 'pg_authid', 'pg_shadow', 'pg_statistic_ext_data', 'pg_roles', 'pg_settings', 'sales_by_film_category', 'pg_file_settings', 'pg_hba_file_rules', 'pg_config', 'pg_shmem_allocations', 'pg_backend_memory_contexts', 'sales_by_store', 'staff_list', 'pg_available_extension_versions', 'pg_user_mapping', 'pg_stat_xact_user_functions', 'pg_replication_origin_status', 'pg_subscription', 'pg_attribute', 'pg_proc', 'pg_class', 'pg_attrdef', 'pg_constraint', 'pg_inherits', 'pg_index', 'pg_operator', 'pg_opfamily', 'pg_opclass', 'pg_am', 'pg_amop', 'pg_amproc', 'pg_language', 'pg_stat_archiver', 'pg_stat_bgwriter', 'pg_stat_wal', 'pg_stat_progress_analyze', 'pg_stat_progress_vacuum', 'pg_stat_progress_cluster', 'pg_stat_progress_create_index', 'pg_stat_progress_basebackup', 'pg_stat_progress_copy', 'pg_largeobject_metadata', 'pg_aggregate', 'pg_statistic_ext', 'pg_rewrite', 'pg_trigger', 'pg_event_trigger', 'pg_description', 'pg_cast', 'pg_enum', 'pg_namespace', 'pg_conversion', 'pg_depend', 'pg_database', 'pg_db_role_setting', 'pg_tablespace', 'pg_auth_members', 'pg_shdepend', 'pg_shdescription', 'pg_ts_config', 'pg_ts_config_map', 'pg_ts_dict', 'pg_ts_parser', 'pg_ts_template', 'pg_extension', 'pg_foreign_data_wrapper', 'pg_foreign_server', 'pg_policy', 'pg_replication_origin', 'pg_default_acl', 'pg_init_privs', 'pg_seclabel', 'pg_shseclabel', 'pg_collation', 'pg_partitioned_table', 'pg_range', 'pg_transform', 'pg_sequence', 'pg_publication', 'pg_publication_rel', 'pg_subscription_rel', 'pg_matviews', 'pg_group', 'pg_user', 'pg_policies', 'pg_rules', 'pg_views', 'pg_tables', 'pg_indexes', 'pg_sequences', 'pg_stats', 'pg_stats_ext', 'pg_stats_ext_exprs', 'pg_publication_tables', 'pg_locks', 'pg_cursors', 'pg_available_extensions', 'pg_prepared_xacts', 'pg_prepared_statements', 'pg_seclabels', 'pg_stat_xact_user_tables', 'pg_timezone_abbrevs', 'pg_timezone_names', 'pg_statio_all_tables', 'pg_statio_sys_tables', 'pg_stat_all_tables', 'pg_stat_xact_all_tables', 'pg_stat_sys_tables', 'pg_stat_xact_sys_tables', 'pg_stat_user_tables', 'pg_statio_user_tables', 'pg_stat_all_indexes', 'pg_stat_sys_indexes', 'pg_stat_user_indexes', 'pg_statio_all_indexes', 'pg_statio_sys_indexes', 'pg_statio_user_indexes', 'pg_statio_all_sequences', 'pg_statio_sys_sequences', 'pg_statio_user_sequences', 'pg_stat_activity', 'pg_stat_replication', 'pg_stat_slru', 'pg_stat_wal_receiver', 'pg_stat_subscription', 'pg_stat_ssl', 'pg_stat_gssapi', 'pg_replication_slots', 'pg_stat_replication_slots', 'pg_stat_database', 'pg_stat_database_conflicts', 'pg_stat_user_functions', 'pg_user_mappings', 'pg_largeobject', 'information_schema_catalog_name', 'attributes', 'applicable_roles', 'administrable_role_authorizations', 'check_constraint_routine_usage', 'character_sets', 'check_constraints', 'collations', 'collation_character_set_applicability', 'column_column_usage', 'column_domain_usage', 'routines', 'column_privileges', 'role_column_grants', 'column_udt_usage', 'columns', 'constraint_column_usage', 'routine_column_usage', 'constraint_table_usage', 'domain_constraints', 'domain_udt_usage', 'routine_privileges', 'domains', 'enabled_roles', 'schemata', 'key_column_usage', 'role_routine_grants', 'parameters', 'referential_constraints', 'routine_routine_usage', 'routine_sequence_usage', 'sequences', 'routine_table_usage', 'sql_parts', 'sql_implementation_info', 'sql_features', 'sql_sizing', 'table_constraints', 'table_privileges', 'view_table_usage', 'role_table_grants', 'tables', 'transforms', 'user_mappings', 'triggered_update_columns', 'views', 'triggers', 'udt_privileges', 'foreign_data_wrappers', 'role_udt_grants', 'data_type_privileges', 'usage_privileges', 'role_usage_grants', 'user_defined_types', 'element_types', 'view_column_usage', 'view_routine_usage', '_pg_foreign_servers', '_pg_foreign_table_columns', 'column_options', '_pg_foreign_data_wrappers', 'foreign_table_options', 'foreign_data_wrapper_options', 'foreign_server_options', 'foreign_servers', '_pg_foreign_tables', 'user_mapping_options', 'foreign_tables', '_pg_user_mappings', 'film', 'actor', 'address', 'category', 'city', 'country', 'customer', 'film_actor', 'film_category', 'inventory', 'language', 'rental', 'staff', 'store', 'payment_p2020_01', 'payment_p2020_02', 'payment_p2020_03', 'payment_p2020_04', 'payment_p2020_05', 'payment_p2020_06']\n"
     ]
    }
   ],
   "source": [
    "b_tolist=df.rdd.map(lambda x: x['table_name']).collect()\n",
    "print(b_tolist)"
   ]
  },
  {
   "cell_type": "markdown",
   "id": "d1d9483a",
   "metadata": {},
   "source": [
    "# вывести количество фильмов в каждой категории, отсортировать по убыванию."
   ]
  },
  {
   "cell_type": "code",
   "execution_count": 9,
   "id": "44f0604c",
   "metadata": {
    "ExecuteTime": {
     "end_time": "2022-04-27T11:31:13.270938Z",
     "start_time": "2022-04-27T11:31:13.015947Z"
    }
   },
   "outputs": [],
   "source": [
    "url = \"jdbc:postgresql://localhost:5432/pagila\"\n",
    "film_list =  spark.read.format(\"jdbc\")\\\n",
    "    .option(\"url\", url)\\\n",
    "    .option(\"user\", 'postgres')\\\n",
    "    .option(\"password\", '52845466')\\\n",
    "    .option(\"dbtable\", 'film_list')\\\n",
    "    .option(\"driver\", \"org.postgresql.Driver\") \\\n",
    ".load()"
   ]
  },
  {
   "cell_type": "code",
   "execution_count": 10,
   "id": "bb0de8e4",
   "metadata": {
    "ExecuteTime": {
     "end_time": "2022-04-27T11:31:14.372801Z",
     "start_time": "2022-04-27T11:31:13.890708Z"
    }
   },
   "outputs": [
    {
     "name": "stdout",
     "output_type": "stream",
     "text": [
      "+---+-------------------+--------------------+-----------+-----+------+------+--------------------+\n",
      "|fid|              title|         description|   category|price|length|rating|              actors|\n",
      "+---+-------------------+--------------------+-----------+-----+------+------+--------------------+\n",
      "|730|RIDGEMONT SUBMARINE|A Unbelieveable D...|        New| 0.99|    46| PG-13|JOHNNY LOLLOBRIGI...|\n",
      "|892|   TITANIC BOONDOCK|A Brilliant Refle...|  Animation| 4.99|   104|     R|BETTE NICHOLSON, ...|\n",
      "|286|      ENOUGH RAGING|A Astounding Char...|     Travel| 2.99|   158| NC-17|JOHNNY LOLLOBRIGI...|\n",
      "|857|  STRICTLY SCARFACE|A Touching Reflec...|     Comedy| 2.99|   144| PG-13|GREG CHAPLIN, DAR...|\n",
      "|593| MONTEREY LABYRINTH|A Awe-Inspiring D...|     Horror| 0.99|   158|     G|KARL BERRY, JULIA...|\n",
      "|664|      PATRIOT ROMAN|A Taut Saga of a ...|     Action| 2.99|    65|    PG|CARMEN HUNT, ALBE...|\n",
      "|211|   DARLING BREAKING|A Brilliant Docum...|      Games| 4.99|   165| PG-13|FRANCES DAY-LEWIS...|\n",
      "|932|      VALLEY PACKER|A Astounding Docu...|     Comedy| 0.99|    73|     G|TOM MIRANDA, CAME...|\n",
      "|550|     MAGUIRE APACHE|A Fast-Paced Refl...|     Family| 2.99|    74| NC-17|NICK WAHLBERG, SE...|\n",
      "|504|      KWAI HOMEWARD|A Amazing Drama o...|      Drama| 0.99|    46| PG-13|NATALIE HOPKINS, ...|\n",
      "|580|        MINE TITANS|A Amazing Yarn of...|        New| 4.99|   166| PG-13|NICK DEGENERES, H...|\n",
      "|982|       WOMEN DORADO|A Insightful Docu...|     Action| 0.99|   126|     R|NICK STALLONE, CH...|\n",
      "|315|   FINDING ANACONDA|A Fateful Tale of...|     Family| 0.99|   156|     R|FRANCES DAY-LEWIS...|\n",
      "|992|         WRATH MILE|A Intrepid Reflec...|Documentary| 0.99|   176| NC-17|SPENCER DEPP, CAT...|\n",
      "|358|     GILMORE BOILED|A Unbelieveable D...|   Classics| 0.99|   163|     R|WOODY HOFFMAN, ME...|\n",
      "|781|        SEVEN SWARM|A Unbelieveable C...|      Games| 4.99|   127|     R|CAMERON STREEP, D...|\n",
      "|395|  HANDICAP BOONDOCK|A Beautiful Displ...|     Action| 0.99|   108|     R|ZERO CAGE, GARY P...|\n",
      "|829|       SPINAL ROCKY|A Lacklusture Epi...|     Family| 2.99|   138| PG-13|CAMERON STREEP, P...|\n",
      "|310|       FEVER EMPIRE|A Insightful Pano...|      Games| 4.99|   158|     R|HELEN VOIGHT, FAY...|\n",
      "|868|      SUPERFLY TRIP|A Beautiful Saga ...|     Travel| 0.99|   114|    PG|JOHNNY CAGE, DAN ...|\n",
      "+---+-------------------+--------------------+-----------+-----+------+------+--------------------+\n",
      "only showing top 20 rows\n",
      "\n"
     ]
    }
   ],
   "source": [
    "film_list.show()"
   ]
  },
  {
   "cell_type": "code",
   "execution_count": 11,
   "id": "c54909d2",
   "metadata": {
    "ExecuteTime": {
     "end_time": "2022-04-27T11:31:20.326968Z",
     "start_time": "2022-04-27T11:31:19.193970Z"
    }
   },
   "outputs": [
    {
     "name": "stdout",
     "output_type": "stream",
     "text": [
      "+-----------+--------+\n",
      "|   category|quantity|\n",
      "+-----------+--------+\n",
      "|    Foreign|      73|\n",
      "|     Sports|      73|\n",
      "|     Family|      69|\n",
      "|Documentary|      68|\n",
      "|  Animation|      66|\n",
      "|     Action|      64|\n",
      "|        New|      63|\n",
      "|      Drama|      61|\n",
      "|      Games|      61|\n",
      "|     Sci-Fi|      61|\n",
      "|   Children|      60|\n",
      "|     Comedy|      58|\n",
      "|   Classics|      57|\n",
      "|     Travel|      56|\n",
      "|     Horror|      56|\n",
      "|      Music|      51|\n",
      "+-----------+--------+\n",
      "\n"
     ]
    }
   ],
   "source": [
    "film_list.groupBy('category').agg(functions.count('category').alias('quantity')) \\\n",
    "                             .sort(functions.desc('quantity')) \\\n",
    "                             .show()"
   ]
  },
  {
   "cell_type": "markdown",
   "id": "d613816b",
   "metadata": {},
   "source": [
    "# вывести 10 актеров, чьи фильмы большего всего арендовали, отсортировать по убыванию"
   ]
  },
  {
   "cell_type": "code",
   "execution_count": 12,
   "id": "155c09bc",
   "metadata": {
    "ExecuteTime": {
     "end_time": "2022-04-27T11:34:26.567522Z",
     "start_time": "2022-04-27T11:34:25.196198Z"
    }
   },
   "outputs": [],
   "source": [
    "film_actor =  spark.read.format(\"jdbc\")\\\n",
    "    .option(\"url\", url)\\\n",
    "    .option(\"user\", 'postgres')\\\n",
    "    .option(\"password\", '52845466')\\\n",
    "    .option(\"dbtable\", 'film_actor')\\\n",
    "    .option(\"driver\", \"org.postgresql.Driver\") \\\n",
    ".load()"
   ]
  },
  {
   "cell_type": "code",
   "execution_count": 13,
   "id": "826ab3d3",
   "metadata": {
    "ExecuteTime": {
     "end_time": "2022-04-27T11:34:43.748739Z",
     "start_time": "2022-04-27T11:34:43.460741Z"
    }
   },
   "outputs": [],
   "source": [
    "actor =  spark.read.format(\"jdbc\")\\\n",
    "    .option(\"url\", url)\\\n",
    "    .option(\"user\", 'postgres')\\\n",
    "    .option(\"password\", '52845466')\\\n",
    "    .option(\"dbtable\", 'actor')\\\n",
    "    .option(\"driver\", \"org.postgresql.Driver\") \\\n",
    ".load()"
   ]
  },
  {
   "cell_type": "code",
   "execution_count": 14,
   "id": "0226c957",
   "metadata": {
    "ExecuteTime": {
     "end_time": "2022-04-27T11:41:02.824432Z",
     "start_time": "2022-04-27T11:41:00.391440Z"
    }
   },
   "outputs": [],
   "source": [
    "film =  spark.read.format(\"jdbc\")\\\n",
    "    .option(\"url\", url)\\\n",
    "    .option(\"user\", 'postgres')\\\n",
    "    .option(\"password\", '52845466')\\\n",
    "    .option(\"dbtable\", 'film')\\\n",
    "    .option(\"driver\", \"org.postgresql.Driver\") \\\n",
    ".load()"
   ]
  },
  {
   "cell_type": "code",
   "execution_count": 15,
   "id": "ffe5af55",
   "metadata": {
    "ExecuteTime": {
     "end_time": "2022-04-27T12:18:41.992799Z",
     "start_time": "2022-04-27T12:18:41.586801Z"
    }
   },
   "outputs": [],
   "source": [
    "actor_film = film.join(film_actor, 'film_id', 'inner').join(actor, 'actor_id', 'inner')"
   ]
  },
  {
   "cell_type": "code",
   "execution_count": 16,
   "id": "f55e1577",
   "metadata": {
    "ExecuteTime": {
     "end_time": "2022-04-27T12:14:54.839011Z",
     "start_time": "2022-04-27T12:14:49.884533Z"
    }
   },
   "outputs": [
    {
     "name": "stdout",
     "output_type": "stream",
     "text": [
      "+----------+---------+------+\n",
      "|first_name|last_name|q_days|\n",
      "+----------+---------+------+\n",
      "|     SUSAN|    DAVIS|   242|\n",
      "|      GINA|DEGENERES|   209|\n",
      "|    WALTER|     TORN|   201|\n",
      "|      MARY|   KEITEL|   192|\n",
      "|   MATTHEW|   CARREY|   190|\n",
      "|    ANGELA|   HUDSON|   183|\n",
      "|   GROUCHO|    DUNST|   183|\n",
      "|    SANDRA|   KILMER|   181|\n",
      "|     HENRY|    BERRY|   180|\n",
      "|       UMA|     WOOD|   179|\n",
      "+----------+---------+------+\n",
      "only showing top 10 rows\n",
      "\n"
     ]
    }
   ],
   "source": [
    "actor_film.groupBy('first_name', 'last_name') \\\n",
    "          .agg(functions.sum('rental_duration').alias('q_days')) \\\n",
    "          .orderBy(functions.desc('q_days')) \\\n",
    "          .show(10) "
   ]
  },
  {
   "cell_type": "markdown",
   "id": "9149b500",
   "metadata": {},
   "source": [
    "# вывести категорию фильмов, на которую потратили больше всего денег"
   ]
  },
  {
   "cell_type": "code",
   "execution_count": 17,
   "id": "f9347559",
   "metadata": {
    "ExecuteTime": {
     "end_time": "2022-04-27T12:48:00.456955Z",
     "start_time": "2022-04-27T12:48:00.118212Z"
    }
   },
   "outputs": [],
   "source": [
    "cat_ac_film = film_list.join(film, film_list.fid == film.film_id, 'inner')"
   ]
  },
  {
   "cell_type": "code",
   "execution_count": 18,
   "id": "08d92732",
   "metadata": {
    "ExecuteTime": {
     "end_time": "2022-04-27T12:48:01.263956Z",
     "start_time": "2022-04-27T12:48:01.246956Z"
    }
   },
   "outputs": [],
   "source": [
    "from pyspark.sql.functions import col, desc"
   ]
  },
  {
   "cell_type": "code",
   "execution_count": 19,
   "id": "50bfd519",
   "metadata": {
    "ExecuteTime": {
     "end_time": "2022-04-27T12:48:43.039033Z",
     "start_time": "2022-04-27T12:48:39.668581Z"
    }
   },
   "outputs": [
    {
     "name": "stdout",
     "output_type": "stream",
     "text": [
      "+--------+---------+\n",
      "|category|total_sum|\n",
      "+--------+---------+\n",
      "| Foreign|  1179.27|\n",
      "+--------+---------+\n",
      "only showing top 1 row\n",
      "\n"
     ]
    }
   ],
   "source": [
    "cat_ac_film.groupBy('category') \\\n",
    "           .agg(functions.sum(col('rental_duration') * col('rental_rate')).alias('total_sum')) \\\n",
    "           .orderBy(desc('total_sum')) \\\n",
    "           .show(1)"
   ]
  },
  {
   "cell_type": "markdown",
   "id": "a1ac4fae",
   "metadata": {},
   "source": [
    "# вывести названия фильмов, которых нет в inventory. Написать запрос без использования оператора IN"
   ]
  },
  {
   "cell_type": "code",
   "execution_count": 20,
   "id": "3b4039d0",
   "metadata": {
    "ExecuteTime": {
     "end_time": "2022-04-27T13:21:30.731246Z",
     "start_time": "2022-04-27T13:21:28.515273Z"
    }
   },
   "outputs": [],
   "source": [
    "inventory =  spark.read.format(\"jdbc\")\\\n",
    "    .option(\"url\", url)\\\n",
    "    .option(\"user\", 'postgres')\\\n",
    "    .option(\"password\", '52845466')\\\n",
    "    .option(\"dbtable\", 'inventory')\\\n",
    "    .option(\"driver\", \"org.postgresql.Driver\") \\\n",
    ".load()"
   ]
  },
  {
   "cell_type": "code",
   "execution_count": 21,
   "id": "9af82bfe",
   "metadata": {
    "ExecuteTime": {
     "end_time": "2022-04-27T13:22:57.300503Z",
     "start_time": "2022-04-27T13:22:56.564517Z"
    }
   },
   "outputs": [],
   "source": [
    "film_inventory = film.join(inventory, 'film_id', 'left')"
   ]
  },
  {
   "cell_type": "code",
   "execution_count": 22,
   "id": "b9448450",
   "metadata": {
    "ExecuteTime": {
     "end_time": "2022-04-27T13:27:13.507943Z",
     "start_time": "2022-04-27T13:27:09.421809Z"
    }
   },
   "outputs": [
    {
     "name": "stdout",
     "output_type": "stream",
     "text": [
      "+--------------------+\n",
      "|               title|\n",
      "+--------------------+\n",
      "|      CHOCOLATE DUCK|\n",
      "|       BUTCH PANTHER|\n",
      "|        VOLUME HOUSE|\n",
      "|      ORDER BETRAYED|\n",
      "|        TADPOLE PARK|\n",
      "|    KILL BROTHERHOOD|\n",
      "|FRANKENSTEIN STRA...|\n",
      "|    CROSSING DIVORCE|\n",
      "|    SUICIDES SILENCE|\n",
      "|       CATCH AMISTAD|\n",
      "|     PERDITION FARGO|\n",
      "|       FLOATS GARDEN|\n",
      "|           GUMP DATE|\n",
      "|        WALLS ARTIST|\n",
      "|  GLADIATOR WESTWARD|\n",
      "|         HOCUS FRIDA|\n",
      "|ARSENIC INDEPENDENCE|\n",
      "|         MUPPET MILE|\n",
      "|   FIREHOUSE VIETNAM|\n",
      "|       ROOF CHAMPION|\n",
      "+--------------------+\n",
      "only showing top 20 rows\n",
      "\n"
     ]
    }
   ],
   "source": [
    "film_inventory.select('title').filter(col('inventory_id').isNull()).show()"
   ]
  },
  {
   "cell_type": "markdown",
   "id": "2678917e",
   "metadata": {},
   "source": [
    "# вывести топ 3 актеров, которые больше всего появлялись в фильмах в категории “Children”. Если у нескольких актеров одинаковое кол-во фильмов, вывести всех"
   ]
  },
  {
   "cell_type": "code",
   "execution_count": 23,
   "id": "64002a72",
   "metadata": {
    "ExecuteTime": {
     "end_time": "2022-04-28T11:35:39.500142Z",
     "start_time": "2022-04-28T11:35:39.481134Z"
    }
   },
   "outputs": [],
   "source": [
    "from pyspark.sql.functions import rank, count\n",
    "from pyspark.sql.window import Window"
   ]
  },
  {
   "cell_type": "code",
   "execution_count": 24,
   "id": "c287dd08",
   "metadata": {
    "ExecuteTime": {
     "end_time": "2022-04-28T11:46:24.434261Z",
     "start_time": "2022-04-28T11:46:24.300269Z"
    }
   },
   "outputs": [],
   "source": [
    "list_actor_film = film_list.join(film_actor, film_list.fid == film_actor.film_id, 'inner') \\\n",
    "                           .join(actor, 'actor_id', 'inner')"
   ]
  },
  {
   "cell_type": "code",
   "execution_count": 25,
   "id": "14c21a73",
   "metadata": {
    "ExecuteTime": {
     "end_time": "2022-04-28T11:47:03.219562Z",
     "start_time": "2022-04-28T11:47:02.995503Z"
    }
   },
   "outputs": [],
   "source": [
    "for_rank = list_actor_film.filter(col('category') == 'Children') \\\n",
    "                          .groupBy('first_name', 'last_name') \\\n",
    "                          .agg(count('fid').alias('q_films'))"
   ]
  },
  {
   "cell_type": "code",
   "execution_count": 26,
   "id": "c5df500a",
   "metadata": {
    "ExecuteTime": {
     "end_time": "2022-04-28T11:47:05.270571Z",
     "start_time": "2022-04-28T11:47:05.237573Z"
    }
   },
   "outputs": [],
   "source": [
    "WindowSpec = Window.orderBy(desc('q_films'))"
   ]
  },
  {
   "cell_type": "code",
   "execution_count": 27,
   "id": "3e424885",
   "metadata": {
    "ExecuteTime": {
     "end_time": "2022-04-28T11:47:40.695861Z",
     "start_time": "2022-04-28T11:47:37.794243Z"
    }
   },
   "outputs": [
    {
     "name": "stdout",
     "output_type": "stream",
     "text": [
      "+----------+---------+-------+----+\n",
      "|first_name|last_name|q_films|rank|\n",
      "+----------+---------+-------+----+\n",
      "|     HELEN|   VOIGHT|      7|   1|\n",
      "|     SUSAN|    DAVIS|      6|   2|\n",
      "|     KEVIN|  GARLAND|      5|   3|\n",
      "|     RALPH|     CRUZ|      5|   3|\n",
      "|    WHOOPI|     HURT|      5|   3|\n",
      "|      MARY|    TANDY|      5|   3|\n",
      "+----------+---------+-------+----+\n",
      "\n"
     ]
    }
   ],
   "source": [
    "for_rank.withColumn(\"rank\",rank().over(WindowSpec)).filter(col('rank') <=3).show()"
   ]
  },
  {
   "cell_type": "markdown",
   "id": "3f5813cc",
   "metadata": {},
   "source": [
    "# вывести города с количеством активных и неактивных клиентов (активный — customer.active = 1). Отсортировать по количеству неактивных клиентов по убыванию"
   ]
  },
  {
   "cell_type": "code",
   "execution_count": 28,
   "id": "294cb88d",
   "metadata": {
    "ExecuteTime": {
     "end_time": "2022-04-28T12:56:50.374696Z",
     "start_time": "2022-04-28T12:56:50.030701Z"
    }
   },
   "outputs": [],
   "source": [
    "customer =  spark.read.format(\"jdbc\")\\\n",
    "    .option(\"url\", url)\\\n",
    "    .option(\"user\", 'postgres')\\\n",
    "    .option(\"password\", '52845466')\\\n",
    "    .option(\"dbtable\", 'customer')\\\n",
    "    .option(\"driver\", \"org.postgresql.Driver\") \\\n",
    ".load()"
   ]
  },
  {
   "cell_type": "code",
   "execution_count": 29,
   "id": "9b18b350",
   "metadata": {
    "ExecuteTime": {
     "end_time": "2022-04-28T12:56:51.023008Z",
     "start_time": "2022-04-28T12:56:50.830994Z"
    }
   },
   "outputs": [],
   "source": [
    "customer_list =  spark.read.format(\"jdbc\")\\\n",
    "    .option(\"url\", url)\\\n",
    "    .option(\"user\", 'postgres')\\\n",
    "    .option(\"password\", '52845466')\\\n",
    "    .option(\"dbtable\", 'customer_list')\\\n",
    "    .option(\"driver\", \"org.postgresql.Driver\") \\\n",
    ".load()"
   ]
  },
  {
   "cell_type": "code",
   "execution_count": 31,
   "id": "4719203a",
   "metadata": {
    "ExecuteTime": {
     "end_time": "2022-04-28T13:08:20.251208Z",
     "start_time": "2022-04-28T13:08:20.213216Z"
    }
   },
   "outputs": [],
   "source": [
    "customer_city = customer.join(customer_list, customer.customer_id == customer_list.id, 'inner')\n",
    "one_df = customer_city.filter(col('active') == 1)\n",
    "zero_df = customer_city.filter(col('active') == 0)"
   ]
  },
  {
   "cell_type": "code",
   "execution_count": 32,
   "id": "4c590d52",
   "metadata": {
    "ExecuteTime": {
     "end_time": "2022-04-28T13:40:21.351521Z",
     "start_time": "2022-04-28T13:40:18.660524Z"
    }
   },
   "outputs": [
    {
     "name": "stdout",
     "output_type": "stream",
     "text": [
      "+------------------+------+--------+\n",
      "|              city|active|inactive|\n",
      "+------------------+------+--------+\n",
      "|  Charlotte Amalie|     0|       1|\n",
      "|            Kamyin|     0|       1|\n",
      "|            Ktahya|     0|       1|\n",
      "|           Bat Yam|     0|       1|\n",
      "|   Southend-on-Sea|     0|       1|\n",
      "|       Szkesfehrvr|     0|       1|\n",
      "|          Uluberia|     0|       1|\n",
      "|           Wroclaw|     0|       1|\n",
      "|          Xiangfan|     0|       1|\n",
      "|        Kumbakonam|     0|       1|\n",
      "|     Coatzacoalcos|     0|       1|\n",
      "|         Najafabad|     0|       1|\n",
      "|            Amroha|     0|       1|\n",
      "|         Pingxiang|     0|       1|\n",
      "|            Daxian|     0|       1|\n",
      "|A Corua (La Corua)|     1|       0|\n",
      "|              Abha|     1|       0|\n",
      "|         Abu Dhabi|     1|       0|\n",
      "|             Adana|     1|       0|\n",
      "|              Acua|     1|       0|\n",
      "+------------------+------+--------+\n",
      "only showing top 20 rows\n",
      "\n"
     ]
    }
   ],
   "source": [
    "one_df.groupBy('city')\\\n",
    "      .agg(functions.count('active').alias('active'))\\\n",
    "      .join(zero_df.groupBy('city')\\\n",
    "                   .agg(functions.count('active').alias('inactive')), \n",
    "            'city', \n",
    "            'full')\\\n",
    "      .na\\\n",
    "      .fill(0).orderBy(desc('inactive')).show()"
   ]
  },
  {
   "cell_type": "markdown",
   "id": "aede30d6",
   "metadata": {},
   "source": [
    "# вывести категорию фильмов, у которой самое большое кол-во часов суммарной аренды в городах (customer.address_id в этом city), и которые начинаются на букву “a”. То же самое сделать для городов в которых есть символ “-”. Написать все в одном запросе."
   ]
  },
  {
   "cell_type": "code",
   "execution_count": null,
   "id": "33f15ffd",
   "metadata": {
    "ExecuteTime": {
     "end_time": "2022-04-28T14:06:33.597050Z",
     "start_time": "2022-04-28T14:06:33.425032Z"
    }
   },
   "outputs": [],
   "source": [
    "inventory =  spark.read.format(\"jdbc\")\\\n",
    "    .option(\"url\", url)\\\n",
    "    .option(\"user\", 'postgres')\\\n",
    "    .option(\"password\", '52845466')\\\n",
    "    .option(\"dbtable\", 'inventory')\\\n",
    "    .option(\"driver\", \"org.postgresql.Driver\") \\\n",
    ".load()"
   ]
  },
  {
   "cell_type": "code",
   "execution_count": null,
   "id": "9b642b2d",
   "metadata": {
    "ExecuteTime": {
     "end_time": "2022-04-28T14:06:47.681629Z",
     "start_time": "2022-04-28T14:06:47.519632Z"
    }
   },
   "outputs": [],
   "source": [
    "rental =  spark.read.format(\"jdbc\")\\\n",
    "    .option(\"url\", url)\\\n",
    "    .option(\"user\", 'postgres')\\\n",
    "    .option(\"password\", '52845466')\\\n",
    "    .option(\"dbtable\", 'rental')\\\n",
    "    .option(\"driver\", \"org.postgresql.Driver\") \\\n",
    ".load()"
   ]
  },
  {
   "cell_type": "code",
   "execution_count": null,
   "id": "d443c1fd",
   "metadata": {
    "ExecuteTime": {
     "end_time": "2022-04-28T14:06:55.401457Z",
     "start_time": "2022-04-28T14:06:55.221459Z"
    }
   },
   "outputs": [],
   "source": [
    "customer =  spark.read.format(\"jdbc\")\\\n",
    "    .option(\"url\", url)\\\n",
    "    .option(\"user\", 'postgres')\\\n",
    "    .option(\"password\", '52845466')\\\n",
    "    .option(\"dbtable\", 'customer')\\\n",
    "    .option(\"driver\", \"org.postgresql.Driver\") \\\n",
    ".load()"
   ]
  },
  {
   "cell_type": "code",
   "execution_count": null,
   "id": "2ce04716",
   "metadata": {
    "ExecuteTime": {
     "end_time": "2022-04-28T14:07:10.492702Z",
     "start_time": "2022-04-28T14:07:10.328704Z"
    }
   },
   "outputs": [],
   "source": [
    "address =  spark.read.format(\"jdbc\")\\\n",
    "    .option(\"url\", url)\\\n",
    "    .option(\"user\", 'postgres')\\\n",
    "    .option(\"password\", '52845466')\\\n",
    "    .option(\"dbtable\", 'address')\\\n",
    "    .option(\"driver\", \"org.postgresql.Driver\") \\\n",
    ".load()"
   ]
  },
  {
   "cell_type": "code",
   "execution_count": null,
   "id": "6ac7939e",
   "metadata": {
    "ExecuteTime": {
     "end_time": "2022-04-28T14:07:22.634111Z",
     "start_time": "2022-04-28T14:07:22.471112Z"
    }
   },
   "outputs": [],
   "source": [
    "city =  spark.read.format(\"jdbc\")\\\n",
    "    .option(\"url\", url)\\\n",
    "    .option(\"user\", 'postgres')\\\n",
    "    .option(\"password\", '52845466')\\\n",
    "    .option(\"dbtable\", 'city')\\\n",
    "    .option(\"driver\", \"org.postgresql.Driver\") \\\n",
    ".load()"
   ]
  },
  {
   "cell_type": "code",
   "execution_count": null,
   "id": "7dddcd57",
   "metadata": {
    "ExecuteTime": {
     "end_time": "2022-04-28T14:10:14.583642Z",
     "start_time": "2022-04-28T14:10:14.380638Z"
    }
   },
   "outputs": [],
   "source": [
    "end_df = film_list.join(film, film_list.fid == film.film_id)\\\n",
    "                  .join(inventory, 'film_id')\\\n",
    "                  .join(rental, 'inventory_id')\\\n",
    "                  .join(customer, 'customer_id')\\\n",
    "                  .join(address, 'address_id')\\\n",
    "                  .join(city, 'city_id')\n"
   ]
  },
  {
   "cell_type": "code",
   "execution_count": null,
   "id": "5aa35234",
   "metadata": {
    "ExecuteTime": {
     "end_time": "2022-04-29T05:48:15.957966Z",
     "start_time": "2022-04-29T05:48:10.102134Z"
    }
   },
   "outputs": [
    {
     "name": "stdout",
     "output_type": "stream",
     "text": [
      "+--------+\n",
      "|category|\n",
      "+--------+\n",
      "|Children|\n",
      "+--------+\n",
      "only showing top 1 row\n",
      "\n"
     ]
    }
   ],
   "source": [
    "end_df.groupBy('city', 'category')\\\n",
    "      .agg(functions.sum('rental_duration').alias('q_hours'))\\\n",
    "      .filter(col('city').startswith('A'))\\\n",
    "      .orderBy(desc('q_hours')).select('category').show(1)"
   ]
  },
  {
   "cell_type": "code",
   "execution_count": null,
   "id": "2686ed05",
   "metadata": {
    "ExecuteTime": {
     "end_time": "2022-04-29T06:25:34.378702Z",
     "start_time": "2022-04-29T06:25:23.433083Z"
    }
   },
   "outputs": [
    {
     "name": "stdout",
     "output_type": "stream",
     "text": [
      "+--------+\n",
      "|category|\n",
      "+--------+\n",
      "|  Sci-Fi|\n",
      "+--------+\n",
      "only showing top 1 row\n",
      "\n"
     ]
    }
   ],
   "source": [
    "end_df.groupBy('city', 'category')\\\n",
    "      .agg(functions.sum('rental_duration').alias('q_hours'))\\\n",
    "      .filter(col('city').contains('-'))\\\n",
    "      .orderBy(desc('q_hours')).select('category').show(1)"
   ]
  },
  {
   "cell_type": "code",
   "execution_count": null,
   "id": "f31d857b",
   "metadata": {
    "ExecuteTime": {
     "end_time": "2022-05-04T12:25:46.483369Z",
     "start_time": "2022-05-04T12:25:37.050197Z"
    }
   },
   "outputs": [
    {
     "name": "stderr",
     "output_type": "stream",
     "text": [
      "[NbConvertApp] Converting notebook Pyspark_test.ipynb to python\n",
      "[NbConvertApp] Writing 7476 bytes to Pyspark_test.py\n"
     ]
    }
   ],
   "source": [
    "!jupyter nbconvert --to python Pyspark_test.ipynb"
   ]
  },
  {
   "cell_type": "code",
   "execution_count": null,
   "id": "51849471",
   "metadata": {},
   "outputs": [],
   "source": []
  }
 ],
 "metadata": {
  "interpreter": {
   "hash": "bd0d4c0f9f45b9dac72515eb3311a6e64843027a060c2d87c534d13d41e6a7d9"
  },
  "kernelspec": {
   "display_name": "Python 3.8.10 ('for_tests')",
   "language": "python",
   "name": "python3"
  },
  "language_info": {
   "codemirror_mode": {
    "name": "ipython",
    "version": 3
   },
   "file_extension": ".py",
   "mimetype": "text/x-python",
   "name": "python",
   "nbconvert_exporter": "python",
   "pygments_lexer": "ipython3",
   "version": "3.8.10"
  },
  "toc": {
   "base_numbering": 1,
   "nav_menu": {},
   "number_sections": true,
   "sideBar": true,
   "skip_h1_title": false,
   "title_cell": "Table of Contents",
   "title_sidebar": "Contents",
   "toc_cell": false,
   "toc_position": {},
   "toc_section_display": true,
   "toc_window_display": true
  },
  "varInspector": {
   "cols": {
    "lenName": 16,
    "lenType": 16,
    "lenVar": 40
   },
   "kernels_config": {
    "python": {
     "delete_cmd_postfix": "",
     "delete_cmd_prefix": "del ",
     "library": "var_list.py",
     "varRefreshCmd": "print(var_dic_list())"
    },
    "r": {
     "delete_cmd_postfix": ") ",
     "delete_cmd_prefix": "rm(",
     "library": "var_list.r",
     "varRefreshCmd": "cat(var_dic_list()) "
    }
   },
   "types_to_exclude": [
    "module",
    "function",
    "builtin_function_or_method",
    "instance",
    "_Feature"
   ],
   "window_display": false
  }
 },
 "nbformat": 4,
 "nbformat_minor": 5
}
